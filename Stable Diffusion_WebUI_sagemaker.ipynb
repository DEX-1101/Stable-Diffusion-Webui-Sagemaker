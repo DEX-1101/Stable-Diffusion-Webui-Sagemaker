{
 "cells": [
  {
   "cell_type": "markdown",
   "metadata": {
    "id": "view-in-github"
   },
   "source": [
    "[![Open in SageMaker Studio Lab](https://studiolab.sagemaker.aws/studiolab.svg)](https://studiolab.sagemaker.aws/import/github/camenduru/stable-diffusion-webui-sagemaker/blob/main/lite/woolitize_webui_sagemaker.ipynb)"
   ]
  },
  {
   "cell_type": "code",
   "execution_count": null,
   "metadata": {
    "id": "SaAJk33ppFw1",
    "tags": []
   },
   "outputs": [],
   "source": [
    "!mkdir /home/studio-lab-user/content\n",
    "%cd /home/studio-lab-user/content\n",
    "\n",
    "%env TF_CPP_MIN_LOG_LEVEL=1\n",
    "\n",
    "%conda install -q -y aria2\n",
    "\n",
    "#!pip install -q torch==2.0.1+cu118 torchvision==0.15.2+cu118 torchaudio==2.0.2+cu118 torchtext==0.15.2 torchdata==0.6.1 --extra-index-url https://download.pytorch.org/whl/cu118 -U\n",
    "#!pip install -q xformers==0.0.20 triton==2.0.0 -U\n",
    "\n",
    "!git clone https://github.com/DEX-1101/URAAAAAAAAAAAAAAAAAAAAAAAAAAAAAAAA\n",
    "#!git clone https://huggingface.co/embed/negative /home/studio-lab-user/content/stable-diffusion-webui/embeddings/negative\n",
    "#!git clone https://huggingface.co/embed/lora /home/studio-lab-user/content/stable-diffusion-webui/models/Lora/positive\n",
    "\n",
    "%cd /home/studio-lab-user/content/stable-diffusion-webui\n",
    "!git reset --hard\n",
    "\n",
    "#!aria2c --console-log-level=error -c -x 16 -s 16 -k 1M https://huggingface.co/ckpt/anything-v3.0/resolve/main/Anything-V3.0-pruned.ckpt -d /home/studio-lab-user/content/stable-diffusion-webui/models/Stable-diffusion -o anything.ckpt\n",
    "\n",
    "\n",
    "!python launch.py --listen --xformers --enable-insecure-extension-access --theme dark --gradio-queue --ngrok 2Mx4UQXDA3ZhSmBTXl9h38RuDco_4j6LQQEWRrqPZHAHSBnbu"
   ]
  },
  {
   "cell_type": "code",
   "execution_count": 5,
   "metadata": {
    "tags": []
   },
   "outputs": [],
   "source": [
    "!rm -rf /home/studio-lab-user/*"
   ]
  }
 ],
 "metadata": {
  "accelerator": "GPU",
  "colab": {
   "collapsed_sections": [],
   "private_outputs": true,
   "provenance": []
  },
  "gpuClass": "standard",
  "kernelspec": {
   "display_name": "default:Python",
   "language": "python",
   "name": "conda-env-default-py"
  },
  "language_info": {
   "codemirror_mode": {
    "name": "ipython",
    "version": 3
   },
   "file_extension": ".py",
   "mimetype": "text/x-python",
   "name": "python",
   "nbconvert_exporter": "python",
   "pygments_lexer": "ipython3",
   "version": "3.9.16"
  },
  "toc-autonumbering": true,
  "toc-showcode": true,
  "toc-showmarkdowntxt": true
 },
 "nbformat": 4,
 "nbformat_minor": 4
}
