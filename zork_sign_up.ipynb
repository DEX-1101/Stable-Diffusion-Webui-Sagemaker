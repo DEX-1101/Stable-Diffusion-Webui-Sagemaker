{
  "nbformat": 4,
  "nbformat_minor": 0,
  "metadata": {
    "colab": {
      "private_outputs": true,
      "provenance": []
    },
    "kernelspec": {
      "name": "python3",
      "display_name": "Python 3"
    },
    "language_info": {
      "name": "python"
    }
  },
  "cells": [
    {
      "cell_type": "markdown",
      "source": [
        " [![](https://img.shields.io/static/v1?message=Open%20in%20Colab&logo=googlecolab&labelColor=5c5c5c&color=0f80c1&label=%20&style=for-the-badge)](https://colab.research.google.com/github/DEX-1101/sd-webui-notebook/blob/main/zork_sign_up.ipynb)"
      ],
      "metadata": {
        "id": "RTurZjG73A7D"
      }
    },
    {
      "cell_type": "code",
      "execution_count": null,
      "metadata": {
        "cellView": "form",
        "id": "_Pe73QvVseK2"
      },
      "outputs": [],
      "source": [
        "# @title chris perry asu\n",
        "# @markdown Run this cell to install zork and open up a terminal for sing up.\n",
        "# @markdown - After the terminal appear, type `zrok invite` and press `Enter`.\n",
        "# @markdown - Fill your email, and press submit, use `Tab` to navigate.\n",
        "# @markdown - Open up your email and they will send your an email about registration link.\n",
        "# @markdown - Just follow the instruction. Should be easy. right...\n",
        "# @markdown - In the end you will get `zrok enable <your_token>`.\n",
        "# @markdown - Back to you notebook and paste the `token` there and GG.\n",
        "\n",
        "from IPython.display import clear_output\n",
        "!pip install colab-xterm\n",
        "%load_ext colabxterm\n",
        "\n",
        "%cd /usr/bin\n",
        "!curl -sLO https://github.com/openziti/zrok/releases/download/v0.4.23/zrok_0.4.23_linux_amd64.tar.gz\n",
        "!tar -xzf zrok_0.4.23_linux_amd64.tar.gz && rm -rf zrok_0.4.23_linux_amd64.tar.gz\n",
        "\n",
        "clear_output()\n",
        "%xterm"
      ]
    }
  ]
}
